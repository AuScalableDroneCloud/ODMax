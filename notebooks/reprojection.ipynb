{
 "cells": [
  {
   "cell_type": "markdown",
   "id": "05907c2f",
   "metadata": {},
   "source": [
    "## Reprojection of existing 360 JPGs into cube-like reprojected images"
   ]
  },
  {
   "cell_type": "markdown",
   "id": "d92d6607",
   "metadata": {},
   "source": [
    "**ODMax** allows for immediate reprojection of your 360 images into a cube-like reprojection. You can do so by passing several options, as demonstrated below in the help of the command-line utility."
   ]
  },
  {
   "cell_type": "code",
   "execution_count": null,
   "id": "17889f2f",
   "metadata": {},
   "outputs": [],
   "source": [
    "!odmax --help"
   ]
  },
  {
   "cell_type": "markdown",
   "id": "49cd07a3",
   "metadata": {},
   "source": [
    "### Import packages\n",
    "let's first import the necessary packages for this notebook"
   ]
  },
  {
   "cell_type": "code",
   "execution_count": null,
   "id": "3ee59775",
   "metadata": {},
   "outputs": [],
   "source": [
    "%matplotlib inline\n",
    "import os\n",
    "import odmax\n",
    "import cv2\n",
    "import numpy as np\n",
    "import py360convert\n",
    "import odmax\n",
    "import matplotlib.pyplot as plt"
   ]
  },
  {
   "cell_type": "markdown",
   "id": "a70ec4c9",
   "metadata": {},
   "source": [
    "### Command-line processing including projection\n",
    "We show an example with the video **XXXXXXX** from the examples folder. We extract frames once every second, and on-the-fly reproject the frames on a cube-like projection. Please note that we also write the results into a temporary folder on your home directory, so please delete these afterwards. The command issued at the end of the next code-block essentially does the following:\n",
    "\n",
    "* `-r`         : indicate that reprojection should be done\n",
    "* `-f 1024`    : in reprojection, each face will be 1024 pixels long\n",
    "* `-m bilinear`: the mode of resampling is bilinear (but can also be nearest)\n",
    "* `-s 0`       : we start extraction at zero seconds\n",
    "* `-e 1`       : we end extraction at 1 seconds\n",
    "* `-d 5`       : we extract every 5th frame\n"
   ]
  },
  {
   "cell_type": "code",
   "execution_count": null,
   "id": "c2f71862",
   "metadata": {},
   "outputs": [],
   "source": [
    "video_file = os.path.join(\"..\", \"examples\", \"forest.mp4\")\n",
    "path_out = os.path.join(\"..\", \"tmp\")\n",
    "# make the output path if it doesn't exist\n",
    "if not(os.path.isdir(path_out)):\n",
    "    os.makedirs(path_out)\n",
    "print(f\"Processing {video_file} and writing outputs to {os.path.abspath(path_out)}\")\n",
    "!odmax -r -f 1024 -m bilinear -s 0 -e 1 -d 5 -i $video_file -o $path_out"
   ]
  },
  {
   "cell_type": "markdown",
   "id": "f4254ddd",
   "metadata": {},
   "source": [
    "### More control over processing\n",
    "It is also possible to have more control over what odmax does by using the API. Below, we show that we can read a 360-still .JPG (i.e. not projected) and reproject that to a 6-directional cube-like projection.\n",
    "\n",
    "Let's first read the still"
   ]
  },
  {
   "cell_type": "code",
   "execution_count": null,
   "id": "ae71e764",
   "metadata": {},
   "outputs": [],
   "source": [
    "# read still and display\n",
    "fn_photo = \"../examples/GS__2098.JPG\"\n",
    "img = cv2.imread(fn_photo)\n",
    "plt.figure(figsize=(16, 10))\n",
    "plt.imshow(img)\n",
    "plt.tick_params(\n",
    "    left=False,\n",
    "    right=False,\n",
    "    labelleft=False,\n",
    "    labelbottom=False,\n",
    "    bottom=False\n",
    ")\n"
   ]
  },
  {
   "cell_type": "markdown",
   "id": "5fa26beb",
   "metadata": {},
   "source": [
    "Now we can reproject the still. We do that with one line of API code, and then plot to simple matplotlib axes."
   ]
  },
  {
   "cell_type": "code",
   "execution_count": null,
   "id": "d8a95a2e",
   "metadata": {},
   "outputs": [],
   "source": [
    "cube_imgs = odmax.process.reproject_cube(img, face_w=256, mode='bilinear')\n",
    "f, axs = plt.subplots(1, 6, figsize=(16, 7))\n",
    "for ax, cube_img in zip(axs, cube_imgs):\n",
    "    ax.imshow(cube_img)\n",
    "    ax.tick_params(\n",
    "        left=False,\n",
    "        right=False,\n",
    "        labelleft=False,\n",
    "        labelbottom=False,\n",
    "        bottom=False\n",
    "    )\n"
   ]
  },
  {
   "cell_type": "markdown",
   "id": "9d359903",
   "metadata": {},
   "source": []
  }
 ],
 "metadata": {
  "kernelspec": {
   "display_name": "Python 3 (ipykernel)",
   "language": "python",
   "name": "python3"
  },
  "language_info": {
   "codemirror_mode": {
    "name": "ipython",
    "version": 3
   },
   "file_extension": ".py",
   "mimetype": "text/x-python",
   "name": "python",
   "nbconvert_exporter": "python",
   "pygments_lexer": "ipython3",
   "version": "3.8.12"
  }
 },
 "nbformat": 4,
 "nbformat_minor": 5
}
