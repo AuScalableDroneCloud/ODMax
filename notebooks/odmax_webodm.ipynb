{
 "cells": [
  {
   "cell_type": "markdown",
   "id": "90522e8b",
   "metadata": {},
   "source": [
    "# 3D point clouds and meshes from 360 degree videos with ODMax\n",
    "ODMax has the capability to collect a large set of sample photos for photogrammetry. Combined with the extremely powerful OpenDroneMap software, a streamlined pipeline of 360-degree videos into photogrammetry products can be established. Luckily, the WebODM software offers a web platform to OpenDroneMap with an API that can be approached from python. To use this example, you need to have a running WebODM server (can be a local one on your current device via `docker`.\n",
    "Also you need to provide an .env file, in the notebook folder, or manually add your server details to your system environment variables. Here you can supply the server details and your login credentials. Below we will of course first check if your credentials are indeed picked up."
   ]
  },
  {
   "cell_type": "markdown",
   "id": "29c638e3",
   "metadata": {},
   "source": [
    "First, to ease the interaction with the WebODM API, let's install the `odk2odm` library from `localdevices`. This library offers odk and odm requests in pythonic form, so that you don't need to know anything about web requests to interact with your WebODM server."
   ]
  },
  {
   "cell_type": "code",
   "execution_count": null,
   "id": "94ace347",
   "metadata": {},
   "outputs": [],
   "source": [
    "!pip install git+https://github.com/localdevices/odk2odm.git\n",
    "!pip install python-dotenv"
   ]
  },
  {
   "cell_type": "markdown",
   "id": "e8bdcba4",
   "metadata": {},
   "source": [
    "Now you should have all required libraries to get started. We also need a larger video than the one supplied in our `examples` folder to have sufficient sampling of depth, and have relevant data for photogrammetry. We will download one below."
   ]
  },
  {
   "cell_type": "code",
   "execution_count": null,
   "id": "08ff2a1d",
   "metadata": {},
   "outputs": [],
   "source": [
    "# wget a larger video from a fixed github location"
   ]
  },
  {
   "cell_type": "markdown",
   "id": "84a06ac6",
   "metadata": {},
   "source": [
    "As final preparation we need to source our `.env` file and then check if the details are correctly picked up. Please first prepare a file called `.env` in the folder of this notebook, and copy-paste and adapt the information below to match your server and login details. Then continue running the cells below.\n",
    "```\n",
    "ODM_SERVER=localhost\n",
    "ODM_PORT=8000\n",
    "ODM_USER=your_username\n",
    "ODM_PASSWORD=your_secret\n",
    "```"
   ]
  },
  {
   "cell_type": "code",
   "execution_count": null,
   "id": "fbe7ce0b",
   "metadata": {},
   "outputs": [],
   "source": [
    "from dotenv import load_dotenv\n",
    "import os\n",
    "# first load .env\n",
    "load_dotenv()\n",
    "# now display the variables\n",
    "print(f\"ODM SERVER        : {os.getenv('ODM_SERVER')}\")\n",
    "print(f\"ODM PORT          : {os.getenv('ODM_PORT')}\")\n",
    "print(f\"ODM USER          : {os.getenv('ODM_USER')}\")\n",
    "print(f\"ODM PASSWORD      : {os.getenv('ODM_PASSWORD')}\")\n"
   ]
  },
  {
   "cell_type": "markdown",
   "id": "097320ac",
   "metadata": {},
   "source": [
    "If all is in order you should see the 4 required server details and the values of those in the print statements"
   ]
  },
  {
   "cell_type": "code",
   "execution_count": null,
   "id": "050e81f3",
   "metadata": {},
   "outputs": [],
   "source": [
    "# get token"
   ]
  },
  {
   "cell_type": "code",
   "execution_count": null,
   "id": "e943bb36",
   "metadata": {},
   "outputs": [],
   "source": [
    "# make project"
   ]
  },
  {
   "cell_type": "code",
   "execution_count": null,
   "id": "eb755fd9",
   "metadata": {},
   "outputs": [],
   "source": [
    "# make task"
   ]
  },
  {
   "cell_type": "code",
   "execution_count": null,
   "id": "fc2223f6",
   "metadata": {},
   "outputs": [],
   "source": [
    "# upload photos from in-memory cube projected stills taken from ODMax API, no file writing needed! \n",
    "# Maybe show the first one to demonstrate that still are really read and available"
   ]
  },
  {
   "cell_type": "code",
   "execution_count": null,
   "id": "adabe970",
   "metadata": {},
   "outputs": [],
   "source": [
    "# commit task for running"
   ]
  },
  {
   "cell_type": "code",
   "execution_count": null,
   "id": "d7294f0a",
   "metadata": {},
   "outputs": [],
   "source": [
    "# retrieve results when done"
   ]
  }
 ],
 "metadata": {
  "kernelspec": {
   "display_name": "Python 3 (ipykernel)",
   "language": "python",
   "name": "python3"
  },
  "language_info": {
   "codemirror_mode": {
    "name": "ipython",
    "version": 3
   },
   "file_extension": ".py",
   "mimetype": "text/x-python",
   "name": "python",
   "nbconvert_exporter": "python",
   "pygments_lexer": "ipython3",
   "version": "3.8.12"
  }
 },
 "nbformat": 4,
 "nbformat_minor": 5
}
